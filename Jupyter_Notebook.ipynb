{
 "cells": [
  {
   "cell_type": "markdown",
   "metadata": {},
   "source": [
    "<center>\n",
    "    <img src=\"https://cf-courses-data.s3.us.cloud-object-storage.appdomain.cloud/IBMDeveloperSkillsNetwork-DS0105EN-SkillsNetwork/labs/Module2/images/SN_web_lightmode.png\" width=\"300\" alt=\"cognitiveclass.ai logo\">\n",
    "</center>\n"
   ]
  },
  {
   "cell_type": "markdown",
   "metadata": {},
   "source": [
    "#### Add your code below following the instructions given in the course\n"
   ]
  },
  {
   "cell_type": "markdown",
   "metadata": {},
   "source": [
    "Open source tools for data science (Peer Graded Assignment)-30 October "
   ]
  },
  {
   "cell_type": "markdown",
   "metadata": {},
   "source": [
    "Introduction"
   ]
  },
  {
   "cell_type": "markdown",
   "metadata": {},
   "source": [
    "List data science languages\n",
    "- Python\n",
    "- SQL\n",
    "- R\n",
    "- Julia\n",
    "- JavaScript\n",
    "- Scala\n",
    "- Java\n",
    "- Go"
   ]
  },
  {
   "cell_type": "markdown",
   "metadata": {},
   "source": [
    "List data science libraries \n",
    "- TensorFlow \n",
    "- SciPy \n",
    "- NumPy\n",
    "- Pandas \n",
    "- Matplotlib \n",
    "- Keras \n",
    "- Scikit-learn \n",
    "- PyTorch"
   ]
  },
  {
   "cell_type": "markdown",
   "metadata": {},
   "source": [
    "| Tool              |\n",
    "|-------------------|\n",
    "| Jupyter Notebook  |\n",
    "| Tableau           |\n",
    "| Apache Spark      |\n",
    "| MATLAB            |\n",
    "| RapidMiner        |\n",
    "| KNIME             |"
   ]
  },
  {
   "cell_type": "markdown",
   "metadata": {},
   "source": [
    "## Arithmetic Expression Examples\n",
    "\n",
    "1. **Addition (+):\n",
    "   - Example: `3 + 5 = 8`\n",
    "\n",
    "2. **Subtraction (-):\n",
    "   - Example: `10 - 3 = 7`\n",
    "\n",
    "3. **Multiplication (*):\n",
    "   - Example: `4 * 6 = 24`\n",
    "\n",
    "4. **Division (/):\n",
    "   - Example: `20 / 4 = 5`\n",
    "\n",
    "5. **Exponentiation (**):\n",
    "   - Example: `2 ** 3 = 8` (2 raised to the power of 3)\n",
    "\n",
    "6. **Modulus (%):\n",
    "   - Example: `10 % 3 = 1` (The remainder when 10 is divided by 3)\n",
    "\n",
    "7. **Integer Division (//):\n",
    "   - Example: `10 // 3 = 3` (Integer division of 10 by 3)"
   ]
  },
  {
   "cell_type": "code",
   "execution_count": 7,
   "metadata": {
    "tags": []
   },
   "outputs": [
    {
     "data": {
      "text/plain": [
       "(15, 8)"
      ]
     },
     "execution_count": 7,
     "metadata": {},
     "output_type": "execute_result"
    }
   ],
   "source": [
    "# Multiplication and Addition Example\n",
    "num1 = 5\n",
    "num2 = 3\n",
    "\n",
    "# Multiply the numbers\n",
    "result_multiply = num1 * num2\n",
    "\n",
    "# Add the numbers\n",
    "result_add = num1 + num2\n",
    "\n",
    "result_multiply, result_add"
   ]
  },
  {
   "cell_type": "code",
   "execution_count": 8,
   "metadata": {
    "tags": []
   },
   "outputs": [
    {
     "data": {
      "text/plain": [
       "2.0"
      ]
     },
     "execution_count": 8,
     "metadata": {},
     "output_type": "execute_result"
    }
   ],
   "source": [
    "minutes = 120\n",
    "hours = minutes / 60\n",
    "\n",
    "hours"
   ]
  },
  {
   "cell_type": "markdown",
   "metadata": {},
   "source": [
    "## Objectives\n",
    "\n",
    "1. Understand the basics of arithmetic expressions.\n",
    "2. Learn how to perform addition and multiplication in Python.\n",
    "3. Convert minutes to hours.\n",
    "4. Explore and practice working with numbers in code cells."
   ]
  },
  {
   "cell_type": "markdown",
   "metadata": {},
   "source": [
    "## Author\n",
    "\n",
    "- [Hani]"
   ]
  }
 ],
 "metadata": {
  "kernelspec": {
   "display_name": "Python",
   "language": "python",
   "name": "conda-env-python-py"
  },
  "language_info": {
   "codemirror_mode": {
    "name": "ipython",
    "version": 3
   },
   "file_extension": ".py",
   "mimetype": "text/x-python",
   "name": "python",
   "nbconvert_exporter": "python",
   "pygments_lexer": "ipython3",
   "version": "3.7.12"
  }
 },
 "nbformat": 4,
 "nbformat_minor": 4
}
