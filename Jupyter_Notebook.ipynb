{
  "cells": [
    {
      "cell_type": "markdown",
      "metadata": {
        "id": "j8K_PS_DoMDZ"
      },
      "source": [
        "<center>\n",
        "    <img src=\"https://cf-courses-data.s3.us.cloud-object-storage.appdomain.cloud/IBMDeveloperSkillsNetwork-DS0105EN-SkillsNetwork/labs/Module2/images/SN_web_lightmode.png\" width=\"300\" alt=\"cognitiveclass.ai logo\">\n",
        "</center>\n"
      ]
    },
    {
      "cell_type": "markdown",
      "metadata": {
        "id": "_1zZ2GUWoMDb"
      },
      "source": [
        "#### Add your code below following the instructions given in the course\n"
      ]
    },
    {
      "cell_type": "markdown",
      "metadata": {
        "id": "jpCU37vnoMDb"
      },
      "source": [
        "Open source tools for data science (Peer Graded Assignment)-30 October"
      ]
    },
    {
      "cell_type": "markdown",
      "metadata": {
        "id": "ASKECaFOoMDc"
      },
      "source": [
        "Introduction"
      ]
    },
    {
      "cell_type": "markdown",
      "metadata": {
        "id": "ezz892nWoMDc"
      },
      "source": [
        "List data science languages\n",
        "- Python\n",
        "- SQL\n",
        "- R\n",
        "- Julia\n",
        "- JavaScript\n",
        "- Scala\n",
        "- Java\n",
        "- Go"
      ]
    },
    {
      "cell_type": "markdown",
      "metadata": {
        "id": "O6FPuU6NoMDc"
      },
      "source": [
        "List data science libraries\n",
        "- TensorFlow\n",
        "- SciPy\n",
        "- NumPy\n",
        "- Pandas\n",
        "- Matplotlib\n",
        "- Keras\n",
        "- Scikit-learn\n",
        "- PyTorch"
      ]
    },
    {
      "cell_type": "markdown",
      "metadata": {
        "id": "kjN53944oMDc"
      },
      "source": [
        "| Tool              |\n",
        "|-------------------|\n",
        "| Jupyter Notebook  |\n",
        "| Tableau           |\n",
        "| Apache Spark      |\n",
        "| MATLAB            |\n",
        "| RapidMiner        |\n",
        "| KNIME             |"
      ]
    },
    {
      "cell_type": "markdown",
      "metadata": {
        "id": "4EpR20bSoMDc"
      },
      "source": [
        "## Arithmetic Expression Examples\n"
      ]
    },
    {
      "cell_type": "code",
      "execution_count": null,
      "metadata": {
        "tags": [],
        "id": "oJK2YteQoMDd",
        "outputId": "1cf14da1-f2f9-4402-8ac1-6f97e44bfc8b"
      },
      "outputs": [
        {
          "data": {
            "text/plain": [
              "(15, 8)"
            ]
          },
          "execution_count": 7,
          "metadata": {},
          "output_type": "execute_result"
        }
      ],
      "source": [
        "# Multiplication and Addition Example\n",
        "num1 = 5\n",
        "num2 = 3\n",
        "\n",
        "# Multiply the numbers\n",
        "result_multiply = num1 * num2\n",
        "\n",
        "# Add the numbers\n",
        "result_add = num1 + num2\n",
        "\n",
        "result_multiply, result_add"
      ]
    },
    {
      "cell_type": "code",
      "execution_count": 1,
      "metadata": {
        "tags": [],
        "colab": {
          "base_uri": "https://localhost:8080/"
        },
        "id": "F53WZ5udoMDe",
        "outputId": "aefdfca6-6b66-4e52-f34e-1d2b13a6c26f"
      },
      "outputs": [
        {
          "output_type": "stream",
          "name": "stdout",
          "text": [
            "33.333333333333336\n"
          ]
        }
      ],
      "source": [
        "# This will convert 200 minutes to hours by diving by 60\n",
        "print(200 / 6)"
      ]
    },
    {
      "cell_type": "markdown",
      "metadata": {
        "id": "pPIGWXDEoMDe"
      },
      "source": [
        "## Objectives\n",
        "\n",
        "1. Understand the basics of arithmetic expressions.\n",
        "2. Learn how to perform addition and multiplication in Python.\n",
        "3. Convert minutes to hours.\n",
        "4. Explore and practice working with numbers in code cells."
      ]
    },
    {
      "cell_type": "markdown",
      "metadata": {
        "id": "8qanYskZoMDe"
      },
      "source": [
        "## Author\n",
        "\n",
        "Hani"
      ]
    }
  ],
  "metadata": {
    "kernelspec": {
      "display_name": "Python",
      "language": "python",
      "name": "conda-env-python-py"
    },
    "language_info": {
      "codemirror_mode": {
        "name": "ipython",
        "version": 3
      },
      "file_extension": ".py",
      "mimetype": "text/x-python",
      "name": "python",
      "nbconvert_exporter": "python",
      "pygments_lexer": "ipython3",
      "version": "3.7.12"
    },
    "colab": {
      "provenance": []
    }
  },
  "nbformat": 4,
  "nbformat_minor": 0
}